{
 "cells": [
  {
   "cell_type": "markdown",
   "id": "4b58bbcb",
   "metadata": {},
   "source": [
    "# Recommender_System"
   ]
  },
  {
   "cell_type": "markdown",
   "id": "0676699a",
   "metadata": {},
   "source": [
    "We can take into account two examples. Content Based and Collaborative Filtering(CF).\n",
    "\n",
    "- Colaborative filtering produces recomendations based on the knowledge of users attitude to items. \n",
    "\n",
    "- Content based focuses on attributes of items. Later gives you reccomendations based on similarity between them. \n",
    "\n",
    "The algorithm has the ability to learn on it's own. Meaning it can decide what features to use. \n",
    "Spark.ml uses the alternating least squares(ALS) algorithm to know these latent factors. \n",
    "Another words it can fulfill missing data on it's own. It uses the specific format to do it. So data needs to be properly prepared. To sum it pup. The ALS uses crowd wisdom to predict further items. "
   ]
  },
  {
   "cell_type": "code",
   "execution_count": 27,
   "id": "aa95240a",
   "metadata": {},
   "outputs": [],
   "source": [
    "import findspark\n",
    "findspark.init('/home/ubuntu/Spark/spark-3.3.0-bin-hadoop3')"
   ]
  },
  {
   "cell_type": "code",
   "execution_count": 28,
   "id": "5d68a36e",
   "metadata": {},
   "outputs": [],
   "source": [
    "from pyspark.sql import SparkSession\n",
    "spark = SparkSession.builder.appName('Recommender_sys').getOrCreate()"
   ]
  },
  {
   "cell_type": "code",
   "execution_count": 29,
   "id": "a996baae",
   "metadata": {},
   "outputs": [],
   "source": [
    "from pyspark.ml.recommendation import ALS"
   ]
  },
  {
   "cell_type": "code",
   "execution_count": 30,
   "id": "96f4611b",
   "metadata": {},
   "outputs": [],
   "source": [
    "from pyspark.ml.evaluation import RegressionEvaluator"
   ]
  },
  {
   "cell_type": "code",
   "execution_count": 31,
   "id": "04a3c0d1",
   "metadata": {},
   "outputs": [],
   "source": [
    "df = spark.read.csv('movielens_ratings.csv', header=True, inferSchema=True)"
   ]
  },
  {
   "cell_type": "code",
   "execution_count": 32,
   "id": "928f5793",
   "metadata": {},
   "outputs": [
    {
     "name": "stdout",
     "output_type": "stream",
     "text": [
      "+-------+------+------+\n",
      "|movieId|rating|userId|\n",
      "+-------+------+------+\n",
      "|      2|   3.0|     0|\n",
      "|      3|   1.0|     0|\n",
      "|      5|   2.0|     0|\n",
      "|      9|   4.0|     0|\n",
      "|     11|   1.0|     0|\n",
      "|     12|   2.0|     0|\n",
      "|     15|   1.0|     0|\n",
      "|     17|   1.0|     0|\n",
      "|     19|   1.0|     0|\n",
      "|     21|   1.0|     0|\n",
      "|     23|   1.0|     0|\n",
      "|     26|   3.0|     0|\n",
      "|     27|   1.0|     0|\n",
      "|     28|   1.0|     0|\n",
      "|     29|   1.0|     0|\n",
      "|     30|   1.0|     0|\n",
      "|     31|   1.0|     0|\n",
      "|     34|   1.0|     0|\n",
      "|     37|   1.0|     0|\n",
      "|     41|   2.0|     0|\n",
      "+-------+------+------+\n",
      "only showing top 20 rows\n",
      "\n"
     ]
    }
   ],
   "source": [
    "df.show()"
   ]
  },
  {
   "cell_type": "code",
   "execution_count": 33,
   "id": "985e9a2e",
   "metadata": {},
   "outputs": [
    {
     "name": "stdout",
     "output_type": "stream",
     "text": [
      "+-------+------------------+------------------+------------------+\n",
      "|summary|           movieId|            rating|            userId|\n",
      "+-------+------------------+------------------+------------------+\n",
      "|  count|              1501|              1501|              1501|\n",
      "|   mean| 49.40572951365756|1.7741505662891406|14.383744170552964|\n",
      "| stddev|28.937034065088994| 1.187276166124803| 8.591040424293272|\n",
      "|    min|                 0|               1.0|                 0|\n",
      "|    max|                99|               5.0|                29|\n",
      "+-------+------------------+------------------+------------------+\n",
      "\n"
     ]
    }
   ],
   "source": [
    "df.describe().show()"
   ]
  },
  {
   "cell_type": "code",
   "execution_count": 34,
   "id": "9f05fa19",
   "metadata": {},
   "outputs": [],
   "source": [
    "train_df, test_df = df.randomSplit([0.8, 0.2])"
   ]
  },
  {
   "cell_type": "code",
   "execution_count": 35,
   "id": "1f10db32",
   "metadata": {},
   "outputs": [],
   "source": [
    "als = ALS(maxIter=5, regParam=0.01, userCol='userId', itemCol='movieId', ratingCol='rating')"
   ]
  },
  {
   "cell_type": "code",
   "execution_count": 36,
   "id": "bca1052c",
   "metadata": {},
   "outputs": [],
   "source": [
    "model = als.fit(train_df)"
   ]
  },
  {
   "cell_type": "code",
   "execution_count": 37,
   "id": "fb6cff50",
   "metadata": {},
   "outputs": [],
   "source": [
    "predictions = model.transform(test_df)"
   ]
  },
  {
   "cell_type": "code",
   "execution_count": 38,
   "id": "98e4f32d",
   "metadata": {},
   "outputs": [
    {
     "name": "stdout",
     "output_type": "stream",
     "text": [
      "+-------+------+------+----------+\n",
      "|movieId|rating|userId|prediction|\n",
      "+-------+------+------+----------+\n",
      "|      0|   3.0|    28|0.45821905|\n",
      "|      1|   1.0|    28|-3.8295836|\n",
      "|      2|   4.0|    28|  2.577623|\n",
      "|      1|   1.0|    26| 0.3426708|\n",
      "|      2|   1.0|    26|  2.076768|\n",
      "|      4|   2.0|     1| 1.1779118|\n",
      "|      3|   1.0|    13| 0.4558654|\n",
      "|      6|   1.0|    13| 1.3460605|\n",
      "|      5|   1.0|     6| 1.9306772|\n",
      "|      2|   2.0|    20| 3.1863234|\n",
      "|      0|   1.0|    19| 0.5484833|\n",
      "|      2|   1.0|    19| 3.2078025|\n",
      "|      0|   1.0|    15| 1.4135474|\n",
      "|      6|   1.0|     9| 1.0774016|\n",
      "|      4|   1.0|    23| 0.6385886|\n",
      "|      3|   1.0|     7| 0.8519964|\n",
      "|      4|   1.0|     7| 2.2586262|\n",
      "|      4|   1.0|    24| 1.6213839|\n",
      "|      4|   1.0|    29| 1.9470978|\n",
      "|      0|   1.0|    21|0.21145405|\n",
      "+-------+------+------+----------+\n",
      "only showing top 20 rows\n",
      "\n"
     ]
    }
   ],
   "source": [
    "predictions.show()"
   ]
  },
  {
   "cell_type": "code",
   "execution_count": 39,
   "id": "62759030",
   "metadata": {},
   "outputs": [],
   "source": [
    "evaluator = RegressionEvaluator(metricName='rmse', labelCol='rating', predictionCol='prediction')"
   ]
  },
  {
   "cell_type": "code",
   "execution_count": 40,
   "id": "66ebe440",
   "metadata": {},
   "outputs": [],
   "source": [
    "rmse = evaluator.evaluate(predictions)"
   ]
  },
  {
   "cell_type": "code",
   "execution_count": 41,
   "id": "63e432e6",
   "metadata": {},
   "outputs": [
    {
     "name": "stdout",
     "output_type": "stream",
     "text": [
      "RMSE\n",
      "1.753159799259631\n"
     ]
    }
   ],
   "source": [
    "print('RMSE')\n",
    "print(rmse)"
   ]
  },
  {
   "cell_type": "code",
   "execution_count": 42,
   "id": "3cbf5ce0",
   "metadata": {},
   "outputs": [],
   "source": [
    "single_user = test_df.filter(test_df['userId']==11).select(['movieId', 'userId'])"
   ]
  },
  {
   "cell_type": "code",
   "execution_count": 43,
   "id": "1b68f72d",
   "metadata": {},
   "outputs": [
    {
     "name": "stdout",
     "output_type": "stream",
     "text": [
      "+-------+------+\n",
      "|movieId|userId|\n",
      "+-------+------+\n",
      "|      9|    11|\n",
      "|     37|    11|\n",
      "|     43|    11|\n",
      "|     66|    11|\n",
      "|     71|    11|\n",
      "|     76|    11|\n",
      "|     81|    11|\n",
      "|     88|    11|\n",
      "|     97|    11|\n",
      "|     99|    11|\n",
      "+-------+------+\n",
      "\n"
     ]
    }
   ],
   "source": [
    "single_user.show()"
   ]
  },
  {
   "cell_type": "code",
   "execution_count": 46,
   "id": "c2e722cd",
   "metadata": {},
   "outputs": [
    {
     "name": "stdout",
     "output_type": "stream",
     "text": [
      "+-------+------+-----------+\n",
      "|movieId|userId| prediction|\n",
      "+-------+------+-----------+\n",
      "|     81|    11| -0.6248032|\n",
      "|     76|    11|   2.826518|\n",
      "|     43|    11|   2.526423|\n",
      "|     37|    11| -2.0028026|\n",
      "|     88|    11|-0.44395733|\n",
      "|      9|    11|  0.5848503|\n",
      "|     97|    11| -0.4232418|\n",
      "|     71|    11|-0.59483933|\n",
      "|     99|    11|  -0.379709|\n",
      "|     66|    11|0.115451574|\n",
      "+-------+------+-----------+\n",
      "\n"
     ]
    }
   ],
   "source": [
    "recommendations = model.transform(single_user)\n",
    "recommendations.show()"
   ]
  },
  {
   "cell_type": "code",
   "execution_count": 54,
   "id": "98931f91",
   "metadata": {},
   "outputs": [],
   "source": [
    "from pyspark.sql.functions import *"
   ]
  },
  {
   "cell_type": "code",
   "execution_count": 61,
   "id": "47e50bfb",
   "metadata": {},
   "outputs": [
    {
     "data": {
      "text/plain": [
       "[Row(movieId=76, userId=11, prediction=2.8265180587768555),\n",
       " Row(movieId=43, userId=11, prediction=2.5264229774475098),\n",
       " Row(movieId=9, userId=11, prediction=0.5848503112792969),\n",
       " Row(movieId=66, userId=11, prediction=0.11545157432556152),\n",
       " Row(movieId=99, userId=11, prediction=-0.37970900535583496),\n",
       " Row(movieId=97, userId=11, prediction=-0.4232417941093445),\n",
       " Row(movieId=88, userId=11, prediction=-0.4439573287963867),\n",
       " Row(movieId=71, userId=11, prediction=-0.594839334487915),\n",
       " Row(movieId=81, userId=11, prediction=-0.6248031854629517),\n",
       " Row(movieId=37, userId=11, prediction=-2.002802610397339)]"
      ]
     },
     "execution_count": 61,
     "metadata": {},
     "output_type": "execute_result"
    }
   ],
   "source": [
    "recommendations.orderBy(desc('prediction')).head(10)"
   ]
  },
  {
   "cell_type": "code",
   "execution_count": null,
   "id": "ea48cd3f",
   "metadata": {},
   "outputs": [],
   "source": []
  }
 ],
 "metadata": {
  "kernelspec": {
   "display_name": "Python 3 (ipykernel)",
   "language": "python",
   "name": "python3"
  },
  "language_info": {
   "codemirror_mode": {
    "name": "ipython",
    "version": 3
   },
   "file_extension": ".py",
   "mimetype": "text/x-python",
   "name": "python",
   "nbconvert_exporter": "python",
   "pygments_lexer": "ipython3",
   "version": "3.10.4"
  }
 },
 "nbformat": 4,
 "nbformat_minor": 5
}
